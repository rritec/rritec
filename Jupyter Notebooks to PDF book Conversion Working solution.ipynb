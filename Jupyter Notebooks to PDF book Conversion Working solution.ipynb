{
 "cells": [
  {
   "cell_type": "markdown",
   "metadata": {},
   "source": [
    "1. install bookbook package\n",
    "    - `pip install bookbook`\n",
    "2. Copy all jupyter notebook files to one folder for sample files download [here](https://github.com/takluyver/bookbook/tree/master/tests/sample)\n",
    "3. Make sure name of file has no spaces and it should be in the format of <chapternumber>-<chaptername>(example 01-Intro.ipynb)\n",
    "4. open anaconda and run the code `python -m bookbook.latex C:\\Users\\vmyla1\\Desktop\\JupyterNotebooks\\book\\test --pdf` \n",
    "5. Here `test` is the notebooks folder    \n"
   ]
  },
  {
   "cell_type": "code",
   "execution_count": null,
   "metadata": {},
   "outputs": [],
   "source": []
  }
 ],
 "metadata": {
  "kernelspec": {
   "display_name": "Python 3",
   "language": "python",
   "name": "python3"
  },
  "language_info": {
   "codemirror_mode": {
    "name": "ipython",
    "version": 3
   },
   "file_extension": ".py",
   "mimetype": "text/x-python",
   "name": "python",
   "nbconvert_exporter": "python",
   "pygments_lexer": "ipython3",
   "version": "3.6.8"
  }
 },
 "nbformat": 4,
 "nbformat_minor": 2
}
